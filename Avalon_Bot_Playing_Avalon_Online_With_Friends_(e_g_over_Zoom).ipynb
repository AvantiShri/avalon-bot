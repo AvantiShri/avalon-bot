{
  "nbformat": 4,
  "nbformat_minor": 0,
  "metadata": {
    "colab": {
      "name": "Avalon Bot: Playing Avalon Online With Friends (e.g. over Zoom)",
      "provenance": [],
      "collapsed_sections": [],
      "authorship_tag": "ABX9TyMxCzdCvZvtAk/cFvbyhPi1",
      "include_colab_link": true
    },
    "kernelspec": {
      "name": "python3",
      "display_name": "Python 3"
    }
  },
  "cells": [
    {
      "cell_type": "markdown",
      "metadata": {
        "id": "view-in-github",
        "colab_type": "text"
      },
      "source": [
        "<a href=\"https://colab.research.google.com/github/AvantiShri/avalon-bot/blob/master/Avalon_Bot_Playing_Avalon_Online_With_Friends_(e_g_over_Zoom).ipynb\" target=\"_parent\"><img src=\"https://colab.research.google.com/assets/colab-badge.svg\" alt=\"Open In Colab\"/></a>"
      ]
    },
    {
      "cell_type": "markdown",
      "metadata": {
        "id": "DIkDs7ZvVomj",
        "colab_type": "text"
      },
      "source": [
        "# Playing Avalon Online With Friends\n",
        "\n",
        "Hello, I'm Av, and I wrote a bot to help with playing [Avalon](https://hobbylark.com/card-games/How-to-Play-Avalon) remotely with friends. This bot will do the initial Avalon card assignments and will also give players any privileged information they need to know (e.g. it will tell Merlin the names of the people on the Evil team that Merlin is allowed to know). Each of your friends will get an email that begins like this:\n",
        "\n",
        "![Screenshot of sample email](https://github.com/AvantiShri/avalon-bot/raw/master/ExampleEmail1.png)\n",
        "\n",
        "In this Google Colab notebook, I'll show you how to use this bot yourself. No programming experience required.\n",
        "\n",
        "## Why use this bot?\n",
        "While there do exist websites to play Avalon online, all of them required making an account, which made it difficult for me to test out their gameplay in advance of inviting all my friends to a session. I also didn't want to ask my friends to supply their info to an unknown website for a game several of them had never played before. By using this bot, I was able to do all the setup for them in advance of the game. Perhaps most appealing, I was able to configure the emails in a way that was helpful to new players (e.g. new players often get confused between MORGANA and MORDRED, so the email each player receives contains reminders of what each card in the game is).\n",
        "\n",
        "## Before you begin\n",
        "\n",
        "In order to send the emails, you will need to create a throwaway gmail account (e.g. I created an account called avalonbot12345@gmail.com - you can use that email address, but it may be better if you create your own so that avalonbot12345@gmail.com doesn't get flagged as spam for sending too many emails 😬). For this account you create, you should go to [https://myaccount.google.com/u/4/lesssecureapps](https://myaccount.google.com/u/4/lesssecureapps?pageId=none) and set \"Allow less secure apps: ON\" (if you don't do this, the bot won't be able to use that email). I've shown what it looks like in the screenshot below. Btw I recommend you create a new account and **don't use your personal email account** precisely because you have to lower the security settings.\n",
        "\n",
        "![Screenshot of less secure app access page](https://raw.githubusercontent.com/AvantiShri/avalon-bot/master/LessSecureAppAccess.png)\n",
        "\n",
        "## Setting up your game & running the bot\n",
        "\n",
        "To configure your game, you'll need to specify the names of the players, their email addresses, and the cards you want in the game. The number of cards should be equal to the number of players. You will also need to supply the dummy email address you created for the bot, its associated password, and a name for the game (the name will be included in the email subject line and will help your friends find the right email in their inbox, especially if you play multiple games).\n",
        "\n",
        "Below, I show an example configuration for six players - replace the names, email addresses and cards with what you actually want in your game. Note that the quotation marks around each entry are necessary. Once you are done, run the cell by pressing the \"play\" button on the left."
      ]
    },
    {
      "cell_type": "code",
      "metadata": {
        "id": "FPnXIaE2WJAR",
        "colab_type": "code",
        "colab": {}
      },
      "source": [
        "bot_email = \"avalonbot12345@gmail.com\"\n",
        "bot_password = \"verysecretsuperpassword\"\n",
        "game_name = \"DemoGame\"\n",
        "\n",
        "#put each player on a separate line.\n",
        "#Each line should have the player's email, followed by a space,\n",
        "# followed by the player's name.\n",
        "# I've just put my own email multiple times below, for testing.\n",
        "players = \"\"\"\n",
        "Av avantishrikumar@gmail.com\n",
        "Jacqueline avantishrikumar@gmail.com\n",
        "Kelly avantishrikumar@gmail.com\n",
        "Kristy avantishrikumar@gmail.com\n",
        "Oana avantishrikumar@gmail.com\n",
        "Alex avantishrikumar@gmail.com\n",
        "\"\"\"\n",
        "\n",
        "#put each card on a separate line. The total number of cards should equal the\n",
        "# number of players. If you want multiple of a certain type of card, repeat\n",
        "# that card on separate lines.\n",
        "#The set of available cards is: LOYAL_SERVANT_OF_ARTHUR, MERLIN, PERCIVAL,\n",
        "# MINION_OF_MORDRED, ASSASSIN, MORGANA, MORDRED, OBERON\n",
        "cards = \"\"\"\n",
        "LOYAL_SERVANT_OF_ARTHUR\n",
        "LOYAL_SERVANT_OF_ARTHUR\n",
        "PERCIVAL\n",
        "MERLIN\n",
        "MORGANA\n",
        "ASSASSIN\n",
        "\"\"\"\n",
        "\n",
        "#################################################\n",
        "#The code below runs the bot - DON'T MODIFY IT!\n",
        "#################################################\n",
        "\n",
        "!pip install avalonbot\n",
        "import avalonbot\n",
        "\n",
        "if players.startswith(\"\\n\"):\n",
        "  players = players[1:]\n",
        "if players.endswith(\"\\n\"):\n",
        "  players = players[:-1]\n",
        "\n",
        "if cards.startswith(\"\\n\"):\n",
        "  cards = cards[1:]\n",
        "if cards.endswith(\"\\n\"):\n",
        "  cards = cards[:-1]\n",
        "\n",
        "players_list = []\n",
        "for player_info in players.split(\"\\n\"):\n",
        "  name, email = player_info.split()\n",
        "  players_list.append(avalonbot.game.Player(name=name, email=email))\n",
        "\n",
        "print(\"The players list is:\\n\" + \"\\n\".join([x.name+\" (\"+x.email+\")\"\n",
        "                                            for x in players_list]))\n",
        "\n",
        "cards_list = avalonbot.bot.create_cards(card_strings=cards.split(\"\\n\"))\n",
        "\n",
        "print(\"\\nThe cards list is:\\n\" + \"\\n\".join([x.card_type for x in cards_list]))\n",
        "\n",
        "avalonbot.bot.launch_game(players=players_list,\n",
        "                          cards=cards_list,\n",
        "                          game_name=game_name,\n",
        "                          sender=bot_email,\n",
        "                          password=bot_password,\n",
        "                          smtp_server=\"smtp.gmail.com:587\")"
      ],
      "execution_count": 0,
      "outputs": []
    },
    {
      "cell_type": "markdown",
      "metadata": {
        "id": "8qdXGHIZiymn",
        "colab_type": "text"
      },
      "source": [
        "That's it! Your players should have received their card assignments. If it doesn't work, check that you've followed all the settings above and/or ask the players to check their spam folders.\n",
        "\n",
        "## Tips for playing on Zoom\n",
        "\n",
        "### Voting\n",
        "\n",
        "It turns out Zoom's built-in vote functionality is a little finicky. So I recommend using other methods to do the votes. For the non-anonymous vote, having each player enter their vote in the chat worked out fine (someone should do a countdown so that the votes are entered roughly simultaneously). For the anonymous votes, there are several websites that allow you to create quick straw polls, e.g. https://www.strawpoll.me/ (you might want to visit those sites in incognito mode to be prevent them from using cookies). There are also other creative solutions, e.g. having everyone visit a [codeshare](https://codeshare.io/new) page and enter their votes by typing a single \"y\" or \"n\" character (my friends actually did this and it worked ok).\n",
        "\n",
        "### Keeping track of past votes\n",
        "My friends and I tracked this by sending messages to the group chat, and it worked fine.\n",
        "\n",
        "### Player order\n",
        "Because the position of windows in zoom's gallery view can move around, we find it's best to fix the player order in advance e.g. alphabetically or reverse-alphabetically.\n",
        "\n",
        "### Other\n",
        "- Decide in advance on whether or not you are going to allow sending PMs. The original game was designed to have everyone physically in the same room, so private communication wouldn't have been possible (except when using the \"Lady of the Lake\").\n",
        "- The rules of Avalon are available online, e.g. [here](https://hobbylark.com/card-games/How-to-Play-Avalon) \n",
        "\n",
        "## Where's the source code?\n",
        "\n",
        "https://github.com/AvantiShri/avalon-bot - have at it.\n",
        "\n"
      ]
    },
    {
      "cell_type": "code",
      "metadata": {
        "id": "aC_e4fpKjaaL",
        "colab_type": "code",
        "colab": {}
      },
      "source": [
        ""
      ],
      "execution_count": 0,
      "outputs": []
    }
  ]
}